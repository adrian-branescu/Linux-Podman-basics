{
 "cells": [
  {
   "attachments": {},
   "cell_type": "markdown",
   "id": "lesbian-citation",
   "metadata": {},
   "source": [
    "# Containers\n",
    "\n",
    "Optional resources, read after finishing the course if you want more details:\n",
    "\n",
    "1. __[Containers explained by google](https://cloud.google.com/learn/what-are-containers#:~:text=Containers%20are%20packages%20of%20software,on%20a%20developer's%20personal%20laptop.)__\n",
    "2. __[Podman vs. Docker](https://phoenixnap.com/kb/podman-vs-docker)__\n",
    "3. __[Optimizing the size of images](https://devopscube.com/reduce-docker-image-size/)__\n",
    "\n",
    "## What are they?\n",
    "Containers are packages of software that contain all of the necessary elements to run in any environment. In this way, containers virtualize the operating system and run anywhere, from a private data center to the public cloud or even on a developer’s personal laptop. You only need to correctly setup a container manager such as Docker or Podman.\n",
    "\n",
    "## Why do we use them?\n",
    "The most important benefits of containers are:\n",
    "+ **Separation of responsibility** - Developers focus on application logic and dependencies while IT operations engineers focus on deployment instead of managing software versions and configurations.\n",
    "+ **Workload portability** - They can run everywhere (on most operating systems; on virtual machines or physical servers; on your personal computer or a data center).\n",
    "+ **Application isolation** - Containers virtualize CPU, memory, storage and network resources at the operating system level, providing a view of the OS logically isolated from other containers. Communication between containers needs to be explicitly configured.\n",
    "\n",
    "## Containers vs. Virtual Machines\n",
    "Virtual machines can do many of the same things, but containers are faster and more lightweight. Containers virtualize at the operating system level while VMs virtualize at the hardware level. This means that containers share the kernel of the host operating system, use a lot less memory and are faster than VMs. Because of this a container whose image is based on the Linux kernel can only run on Linux (or Windows with the subsystem for Linux enabled).\n",
    "\n",
    "## Podman vs. Docker\n",
    "For this tutorial we'll use docker but the industry is moving away from it in favor of podman. Podman was built to seamlessly replace Docker so its commands are mostly the same. The main differences are:\n",
    "\n",
    "1. **Architecture** - Docker has a client-server architecture. The client is the CLI app (the commands you run) and it communicates with the server (the docker daemon) through a REST API. The containers are thus children of the daemon process. Podman is decentralized in the sense that every time you run a new container it doesn't have to go through a single point of failure (the daemon) and it creates a new podman process which forks into the container child process.\n",
    "2. **Root Privileges** - By default Docker requires root privileges to communicate with the daemon and the process of making it run rootless is tedious. Podman is rootless by design.\n",
    "3. **Security** - While Docker is considered to be a secure tool when users apply the security best practices for it, podman is considered by most to be more secure.\n",
    "4. **Other Tools** - Only docker supports docker swarm, but podman users can use Nomad for example. Docker compose is supported by both of them as of podman version 3.0."
   ]
  },
  {
   "cell_type": "code",
   "execution_count": 1,
   "id": "proof-principal",
   "metadata": {
    "vscode": {
     "languageId": "shellscript"
    }
   },
   "outputs": [],
   "source": [
    "# here are some helper functions which you can mostly ignore\n",
    "# but make sure you run this cell\n",
    "remove_containers () {\n",
    "    # removes all containers that use a given image\n",
    "    # $1 - name of the image for which to remove all containers\n",
    "\n",
    "    # find all containers that share a given image as an ancestor\n",
    "    CONTAINERS=\"$(docker ps -q -a --filter ancestor=$1)\"\n",
    "    # if there is at least one such container\n",
    "    if [ ! -z \"$CONTAINERS\" ]; then\n",
    "        # stop and remove those containers\n",
    "        docker rm $(docker stop $CONTAINERS) &> /dev/null\n",
    "    fi\n",
    "}\n",
    "\n",
    "remove_image () {\n",
    "    # remove an image given its name and remove all containers\n",
    "    # that depend on it\n",
    "    # $1 - name of the image to remove\n",
    "\n",
    "    remove_containers $1\n",
    "\n",
    "    # remove the given image now that we're sure no containers\n",
    "    # depend on it\n",
    "    docker rmi $1 &> /dev/null\n",
    "}"
   ]
  },
  {
   "attachments": {},
   "cell_type": "markdown",
   "id": "bright-distinction",
   "metadata": {},
   "source": [
    "## Getting started with Docker\n",
    "\n",
    "Let's first run the Hello World container and see what we can learn."
   ]
  },
  {
   "cell_type": "code",
   "execution_count": 2,
   "id": "strategic-arbitration",
   "metadata": {
    "vscode": {
     "languageId": "shellscript"
    }
   },
   "outputs": [
    {
     "name": "stdout",
     "output_type": "stream",
     "text": [
      "Unable to find image 'hello-world:latest' locally\n",
      "latest: Pulling from library/hello-world\n",
      "\n",
      "\u001b[1BDigest: sha256:80f31da1ac7b312ba29d65080fddf797dd76acfb870e677f390d5acba9741b17\n",
      "Status: Downloaded newer image for hello-world:latest\n",
      "\n",
      "Hello from Docker!\n",
      "This message shows that your installation appears to be working correctly.\n",
      "\n",
      "To generate this message, Docker took the following steps:\n",
      " 1. The Docker client contacted the Docker daemon.\n",
      " 2. The Docker daemon pulled the \"hello-world\" image from the Docker Hub.\n",
      "    (amd64)\n",
      " 3. The Docker daemon created a new container from that image which runs the\n",
      "    executable that produces the output you are currently reading.\n",
      " 4. The Docker daemon streamed that output to the Docker client, which sent it\n",
      "    to your terminal.\n",
      "\n",
      "To try something more ambitious, you can run an Ubuntu container with:\n",
      " $ docker run -it ubuntu bash\n",
      "\n",
      "Share images, automate workflows, and more with a free Docker ID:\n",
      " https://hub.docker.com/\n",
      "\n",
      "For more examples and ideas, visit:\n",
      " https://docs.docker.com/get-started/\n",
      "\n"
     ]
    }
   ],
   "source": [
    "# you can ignore this line; it's only here to make sure every time\n",
    "# you run the next command you get the same output\n",
    "remove_image hello-world:latest\n",
    "\n",
    "# this is the command whose output we want to inspect\n",
    "docker run hello-world"
   ]
  },
  {
   "attachments": {},
   "cell_type": "markdown",
   "id": "injured-costs",
   "metadata": {},
   "source": [
    "### Images and Registries\n",
    "What we did here was run a docker image called \"hello-world\". An image is pre-built environment that starts from a base operating system (for example, ubuntu 18.04) on which have been installed all dependencies an app needs. One way to think about images is through the lens of object oriented programming. An <span style=\"color:#00cc00\">**image**</span> can be thought of as a <span style=\"color:#00cc00\">**class**</span> and the <span style=\"color:#ff66ff\">**instances**</span> of that class are the <span style=\"color:#ff66ff\">**containers**</span>. This \"hello-world\" image was not on your computer when you installed Docker.\n",
    "```bash\n",
    "Unable to find image 'hello-world:latest' locally\n",
    "latest: Pulling from library/hello-world\n",
    "```\n",
    "Hence why it's telling you it cannot find it and that it's trying to pull (download) it from the **registry**. A **registry** hosts and serves to clients whatever images they need. The default registry with docker is ___[Docker Hub](https://hub.docker.com/)___ where you can upload your own images for free.\n",
    "\n",
    "You can think of Docker Hub as a GitHub for container images. However, on GitHub you usually find only application source code, while the container image usually contains the compiled application along with the environment necessary for running it (base operating system, configuration files, libraries, etc.).\n",
    "\n",
    "### Docker Steps\n",
    "The \"hello-world\" container has outputed a message detailing what steps were followed in running it:\n",
    "\n",
    "```bash\n",
    " 1. The Docker client contacted the Docker daemon.\n",
    " 2. The Docker daemon pulled the \"hello-world\" image from the Docker Hub.\n",
    "    (amd64)\n",
    " 3. The Docker daemon created a new container from that image which runs the\n",
    "    executable that produces the output you are currently reading.\n",
    " 4. The Docker daemon streamed that output to the Docker client, which sent it\n",
    "    to your terminal.\n",
    "```\n",
    "\n",
    "As we discussed, docker uses a client-server architecture and the daemon does the actual work of downloading the image and running the container (spawning a new process based on the image). The client only transmits the command and prints the output to the terminal."
   ]
  },
  {
   "attachments": {},
   "cell_type": "markdown",
   "id": "crucial-sauce",
   "metadata": {},
   "source": [
    "## More about Images"
   ]
  },
  {
   "cell_type": "code",
   "execution_count": 3,
   "id": "postal-kidney",
   "metadata": {
    "vscode": {
     "languageId": "shellscript"
    }
   },
   "outputs": [
    {
     "name": "stdout",
     "output_type": "stream",
     "text": [
      "REPOSITORY                       TAG       IMAGE ID       CREATED        SIZE\n",
      "nginx-static                     latest    e832471c85be   4 hours ago    23.4MB\n",
      "cosminc98/4psa-version-control   latest    70d10440db69   30 hours ago   1.41GB\n",
      "hello-world                      latest    feb5d9fea6a5   8 months ago   13.3kB\n"
     ]
    }
   ],
   "source": [
    "docker image list"
   ]
  },
  {
   "attachments": {},
   "cell_type": "markdown",
   "id": "handmade-andorra",
   "metadata": {},
   "source": [
    "The above command's output probably looks like:\n",
    "```bash\n",
    "REPOSITORY                       TAG       IMAGE ID       CREATED        SIZE\n",
    "cosminc98/4psa-version-control   latest    70d10440db69   4 hours ago    1.41GB\n",
    "hello-world                      latest    feb5d9fea6a5   8 months ago   13.3kB\n",
    "```\n",
    "In the REPOSITORY column you see the image's name. It's composed of the user's name (cosminc98) and the project's name. The entries in the TAG column can be thought of as different versions of the same project. Obviously the \"latest\" tag means that this is the most recent version. You can also see how big an image is. There are many techniques to reduce image sizes which are beyond the scope of this guide so we'll discuss only one."
   ]
  },
  {
   "attachments": {},
   "cell_type": "markdown",
   "id": "biblical-sheet",
   "metadata": {},
   "source": [
    "### Creating a new image with Dockerfile\n",
    "\n",
    "A Dockerfile is a configuration file from which we can create a container image. Each instruction creates a new layer which is an image in itself which can be cached to save time if you need to rebuild later. A layer stores changes compared to the layer it was based on. Because of this you can reduce image sizes by deleting temporary files or undoing changes before the end of an instruction. This can be combined with chaining multiple commands to create as few layers as possible.\n",
    "\n",
    "```bash\n",
    "RUN apt-get update && apt-get install -y\\\n",
    "         [package-one] \\\n",
    "         [package-two] \n",
    "   && rm -rf /var/lib/apt/lists/*\n",
    "```"
   ]
  },
  {
   "cell_type": "code",
   "execution_count": null,
   "id": "166916c6",
   "metadata": {
    "vscode": {
     "languageId": "shellscript"
    }
   },
   "outputs": [
    {
     "ename": "",
     "evalue": "",
     "output_type": "error",
     "traceback": [
      "\u001b[1;31mFailed to start the Kernel. \n",
      "\u001b[1;31m'_xsrf' argument missing from POST. \n",
      "\u001b[1;31mView Jupyter <a href='command:jupyter.viewOutput'>log</a> for further details."
     ]
    }
   ],
   "source": [
    "cat Dockerfile"
   ]
  },
  {
   "attachments": {},
   "cell_type": "markdown",
   "id": "5910e51e",
   "metadata": {},
   "source": [
    "We'll create a container that will use Nginx to host a static web page in a container and see it in a browser on your host operating system.\n",
    "\n",
    "1. The first instruction \"<span style=\"color:#cc6600\">FROM</span> nginx:mainline-alpine\" sets the base image from which we'll make modifications. It first tries to find the image locally and if it's not found it downloads it from a registry (probably Docker Hub because it is the default for docker).\n",
    "2. \"<span style=\"color:#cc6600\">RUN</span>  rm /etc/nginx/conf.d/*\" removes some configuration files. Another example would be installing a python package: \"<span style=\"color:#cc6600\">RUN</span> pip install tqdm\"\n",
    "3. \"<span style=\"color:#cc6600\">ADD</span>  hello.conf /etc/nginx/conf.d/\"; the add command copies files/directories into a Docker image.\n",
    "4. \"<span style=\"color:#cc6600\">ADD</span>  index.html /usr/share/nginx/html/\" adds the actual content of the web page. You can modify this page for your amusement.\n",
    "\n",
    "___[Here](https://kapeli.com/cheat_sheets/Dockerfile.docset/Contents/Resources/Documents/index)___ is a cheat sheet describing all Dockerfile commands in depth.\n"
   ]
  },
  {
   "cell_type": "code",
   "execution_count": 5,
   "id": "different-ranch",
   "metadata": {
    "vscode": {
     "languageId": "shellscript"
    }
   },
   "outputs": [
    {
     "name": "stdout",
     "output_type": "stream",
     "text": [
      "\u001b[1A\u001b[1B\u001b[0G\u001b[?25l[+] Building 0.0s (0/1)                                                         \n",
      "\u001b[?25h\u001b[1A\u001b[0G\u001b[?25l[+] Building 0.2s (2/3)                                                         \n",
      "\u001b[34m => [internal] load build definition from Dockerfile                       0.0s\n",
      "\u001b[0m\u001b[34m => => transferring dockerfile: 246B                                       0.0s\n",
      "\u001b[0m\u001b[34m => [internal] load .dockerignore                                          0.0s\n",
      "\u001b[0m\u001b[34m => => transferring context: 2B                                            0.0s\n",
      "\u001b[0m => [internal] load metadata for docker.io/library/nginx:mainline-alpine   0.1s\n",
      "\u001b[?25h\u001b[1A\u001b[1A\u001b[1A\u001b[1A\u001b[1A\u001b[1A\u001b[0G\u001b[?25l[+] Building 0.3s (2/3)                                                         \n",
      "\u001b[34m => [internal] load build definition from Dockerfile                       0.0s\n",
      "\u001b[0m\u001b[34m => => transferring dockerfile: 246B                                       0.0s\n",
      "\u001b[0m\u001b[34m => [internal] load .dockerignore                                          0.0s\n",
      "\u001b[0m\u001b[34m => => transferring context: 2B                                            0.0s\n",
      "\u001b[0m => [internal] load metadata for docker.io/library/nginx:mainline-alpine   0.2s\n",
      "\u001b[?25h\u001b[1A\u001b[1A\u001b[1A\u001b[1A\u001b[1A\u001b[1A\u001b[0G\u001b[?25l[+] Building 0.5s (2/3)                                                         \n",
      "\u001b[34m => [internal] load build definition from Dockerfile                       0.0s\n",
      "\u001b[0m\u001b[34m => => transferring dockerfile: 246B                                       0.0s\n",
      "\u001b[0m\u001b[34m => [internal] load .dockerignore                                          0.0s\n",
      "\u001b[0m\u001b[34m => => transferring context: 2B                                            0.0s\n",
      "\u001b[0m => [internal] load metadata for docker.io/library/nginx:mainline-alpine   0.4s\n",
      "\u001b[?25h\u001b[1A\u001b[1A\u001b[1A\u001b[1A\u001b[1A\u001b[1A\u001b[0G\u001b[?25l[+] Building 0.6s (2/3)                                                         \n",
      "\u001b[34m => [internal] load build definition from Dockerfile                       0.0s\n",
      "\u001b[0m\u001b[34m => => transferring dockerfile: 246B                                       0.0s\n",
      "\u001b[0m\u001b[34m => [internal] load .dockerignore                                          0.0s\n",
      "\u001b[0m\u001b[34m => => transferring context: 2B                                            0.0s\n",
      "\u001b[0m => [internal] load metadata for docker.io/library/nginx:mainline-alpine   0.5s\n",
      "\u001b[?25h\u001b[1A\u001b[1A\u001b[1A\u001b[1A\u001b[1A\u001b[1A\u001b[0G\u001b[?25l[+] Building 0.8s (2/3)                                                         \n",
      "\u001b[34m => [internal] load build definition from Dockerfile                       0.0s\n",
      "\u001b[0m\u001b[34m => => transferring dockerfile: 246B                                       0.0s\n",
      "\u001b[0m\u001b[34m => [internal] load .dockerignore                                          0.0s\n",
      "\u001b[0m\u001b[34m => => transferring context: 2B                                            0.0s\n",
      "\u001b[0m => [internal] load metadata for docker.io/library/nginx:mainline-alpine   0.7s\n",
      "\u001b[?25h\u001b[1A\u001b[1A\u001b[1A\u001b[1A\u001b[1A\u001b[1A\u001b[0G\u001b[?25l[+] Building 0.9s (2/3)                                                         \n",
      "\u001b[34m => [internal] load build definition from Dockerfile                       0.0s\n",
      "\u001b[0m\u001b[34m => => transferring dockerfile: 246B                                       0.0s\n",
      "\u001b[0m\u001b[34m => [internal] load .dockerignore                                          0.0s\n",
      "\u001b[0m\u001b[34m => => transferring context: 2B                                            0.0s\n",
      "\u001b[0m => [internal] load metadata for docker.io/library/nginx:mainline-alpine   0.8s\n",
      "\u001b[?25h\u001b[1A\u001b[1A\u001b[1A\u001b[1A\u001b[1A\u001b[1A\u001b[0G\u001b[?25l[+] Building 1.1s (2/3)                                                         \n",
      "\u001b[34m => [internal] load build definition from Dockerfile                       0.0s\n",
      "\u001b[0m\u001b[34m => => transferring dockerfile: 246B                                       0.0s\n",
      "\u001b[0m\u001b[34m => [internal] load .dockerignore                                          0.0s\n",
      "\u001b[0m\u001b[34m => => transferring context: 2B                                            0.0s\n",
      "\u001b[0m => [internal] load metadata for docker.io/library/nginx:mainline-alpine   1.0s\n",
      "\u001b[?25h\u001b[1A\u001b[1A\u001b[1A\u001b[1A\u001b[1A\u001b[1A\u001b[0G\u001b[?25l[+] Building 1.2s (2/3)                                                         \n",
      "\u001b[34m => [internal] load build definition from Dockerfile                       0.0s\n",
      "\u001b[0m\u001b[34m => => transferring dockerfile: 246B                                       0.0s\n",
      "\u001b[0m\u001b[34m => [internal] load .dockerignore                                          0.0s\n",
      "\u001b[0m\u001b[34m => => transferring context: 2B                                            0.0s\n",
      "\u001b[0m => [internal] load metadata for docker.io/library/nginx:mainline-alpine   1.1s\n",
      "\u001b[?25h\u001b[1A\u001b[1A\u001b[1A\u001b[1A\u001b[1A\u001b[1A\u001b[0G\u001b[?25l[+] Building 1.3s (3/3)                                                         \n",
      "\u001b[34m => [internal] load build definition from Dockerfile                       0.0s\n",
      "\u001b[0m\u001b[34m => => transferring dockerfile: 246B                                       0.0s\n",
      "\u001b[0m\u001b[34m => [internal] load .dockerignore                                          0.0s\n",
      "\u001b[0m\u001b[34m => => transferring context: 2B                                            0.0s\n",
      "\u001b[0m\u001b[34m => [internal] load metadata for docker.io/library/nginx:mainline-alpine   1.3s\n",
      "\u001b[0m\u001b[?25h\u001b[1A\u001b[1A\u001b[1A\u001b[1A\u001b[1A\u001b[1A\u001b[0G\u001b[?25l[+] Building 1.4s (9/9) FINISHED                                                \n",
      "\u001b[34m => [internal] load build definition from Dockerfile                       0.0s\n",
      "\u001b[0m\u001b[34m => => transferring dockerfile: 246B                                       0.0s\n",
      "\u001b[0m\u001b[34m => [internal] load .dockerignore                                          0.0s\n",
      "\u001b[0m\u001b[34m => => transferring context: 2B                                            0.0s\n",
      "\u001b[0m\u001b[34m => [internal] load metadata for docker.io/library/nginx:mainline-alpine   1.3s\n",
      "\u001b[0m\u001b[34m => [internal] load build context                                          0.0s\n",
      "\u001b[0m\u001b[34m => => transferring context: 62B                                           0.0s\n",
      "\u001b[0m\u001b[34m => [1/4] FROM docker.io/library/nginx:mainline-alpine@sha256:a74534e76ee  0.0s\n",
      "\u001b[0m\u001b[34m => CACHED [2/4] RUN rm /etc/nginx/conf.d/*                                0.0s\n",
      "\u001b[0m\u001b[34m => CACHED [3/4] ADD hello.conf /etc/nginx/conf.d/                         0.0s\n",
      "\u001b[0m\u001b[34m => CACHED [4/4] ADD index.html /usr/share/nginx/html/                     0.0s\n",
      "\u001b[0m\u001b[34m => exporting to image                                                     0.0s\n",
      "\u001b[0m\u001b[34m => => exporting layers                                                    0.0s\n",
      "\u001b[0m\u001b[34m => => writing image sha256:e98e248b550f470fe49c815f6188dc01ff570f4a81d02  0.0s\n",
      "\u001b[0m\u001b[34m => => naming to docker.io/library/nginx-static:latest                     0.0s\n",
      "\u001b[0m\u001b[?25h"
     ]
    }
   ],
   "source": [
    "# ignore\n",
    "remove_image nginx-static:latest\n",
    "\n",
    "# here we create an image with the name \"nginx-static\" and the version \"latest\"\n",
    "docker build -t nginx-static:latest ."
   ]
  },
  {
   "cell_type": "code",
   "execution_count": 6,
   "id": "54380261",
   "metadata": {
    "vscode": {
     "languageId": "shellscript"
    }
   },
   "outputs": [
    {
     "name": "stdout",
     "output_type": "stream",
     "text": [
      "REPOSITORY                       TAG       IMAGE ID       CREATED        SIZE\n",
      "nginx-static                     latest    e98e248b550f   4 hours ago    23.4MB\n",
      "cosminc98/4psa-version-control   latest    70d10440db69   30 hours ago   1.41GB\n",
      "hello-world                      latest    feb5d9fea6a5   8 months ago   13.3kB\n"
     ]
    }
   ],
   "source": [
    "# the image has been added to docker's database\n",
    "docker image list"
   ]
  },
  {
   "attachments": {},
   "cell_type": "markdown",
   "id": "a87c3586",
   "metadata": {},
   "source": [
    "## docker run\n",
    "\n",
    "This command starts a container using an image. There are many options that can be used. Among the most important:\n",
    "+ \"-p 1234:4321\" maps the port 1234 from the **host** to the port 4321 on the **container**.\n",
    "+ \"-d\" option runs the container in detached mode (background), meaning you can continue to use the terminal\n",
    "+ \"-v /path/in/host:/path/in/container\" mounts a directory / files from the host's file system to the container's file system. This option you already used twice to start this container. The first time was '-v \"$(pwd)\":/usr/project' which added all files in the current directory (the notebooks, Dockerfiles, etc.) to \"/usr/project\". The second time was \"-v /var/run/docker.sock:/var/run/docker.sock\" which mounted the unix socket that the docker daemon was listening on the host. This means that whenever we run a docker command it has the same effect as if we ran it on the host (outside all containers).\n",
    "+ \"--rm\" when a container exits after doing its job its file system will be automatically cleaned. Everything is lost except the files that were mounted with the \"-v\" option. This is why you think of containers as temporary entities whose only persistent components are volumes (mounted files and directories).\n"
   ]
  },
  {
   "cell_type": "code",
   "execution_count": 7,
   "id": "ranging-hobby",
   "metadata": {
    "vscode": {
     "languageId": "shellscript"
    }
   },
   "outputs": [
    {
     "name": "stdout",
     "output_type": "stream",
     "text": [
      "f6f0bbeec3a24d4c264fd5a292394ecc2db6c27f74b4f6b4c1d83d6b871d2da6\n"
     ]
    }
   ],
   "source": [
    "# ignore\n",
    "remove_containers nginx-static:latest\n",
    "\n",
    "# start the web server\n",
    "docker run -p 8081:80 -d nginx-static"
   ]
  },
  {
   "attachments": {},
   "cell_type": "markdown",
   "id": "f4eea85a",
   "metadata": {},
   "source": [
    "The command above starts the web server (a container with that server). \n",
    "+ \"-p 8081:80\" maps port 8081 from the host to container's port 80 on which the web server is listening.\n",
    "+ We can now open the browser on http://localhost:8081 and see the website."
   ]
  },
  {
   "attachments": {},
   "cell_type": "markdown",
   "id": "1a7a111d",
   "metadata": {},
   "source": [
    "## docker ps\n",
    "This command lists all containers. There are many options that can be used. Among the most important:\n",
    "+ '-a' shows both active containers and those who have exited\n",
    "+ '--filter ancestor=image-name:version' filters out the containers that do not use a specific version of an image\n",
    "+ '-q' only display the containers' ids"
   ]
  },
  {
   "cell_type": "code",
   "execution_count": 8,
   "id": "e9a36b8b",
   "metadata": {
    "vscode": {
     "languageId": "shellscript"
    }
   },
   "outputs": [
    {
     "name": "stdout",
     "output_type": "stream",
     "text": [
      "CONTAINER ID   IMAGE          COMMAND                  CREATED         STATUS         PORTS                  NAMES\n",
      "f6f0bbeec3a2   nginx-static   \"/docker-entrypoint.…\"   6 seconds ago   Up 6 seconds   0.0.0.0:8081->80/tcp   beautiful_lamarr\n"
     ]
    }
   ],
   "source": [
    "docker ps -a --filter ancestor=nginx-static:latest"
   ]
  },
  {
   "attachments": {},
   "cell_type": "markdown",
   "id": "ac993ac3",
   "metadata": {},
   "source": [
    "## docker stop & docker start & docker rm\n",
    "\n",
    "Remember that stopping a container does not initiate the cleanup sequence for its file system and can be restarted with no problems."
   ]
  },
  {
   "cell_type": "code",
   "execution_count": 9,
   "id": "dd390f1c",
   "metadata": {
    "vscode": {
     "languageId": "shellscript"
    }
   },
   "outputs": [
    {
     "name": "stdout",
     "output_type": "stream",
     "text": [
      "f6f0bbeec3a2\n"
     ]
    }
   ],
   "source": [
    "# get the id of the web server container; an alternative to using ids\n",
    "# is naming containers and using that insted of the ids\n",
    "CONTAINER_ID=$(docker ps -a --filter ancestor=nginx-static:latest -q)\n",
    "\n",
    "# after running this command you can check in your browser that the\n",
    "# web server is down\n",
    "docker stop $CONTAINER_ID"
   ]
  },
  {
   "cell_type": "code",
   "execution_count": 10,
   "id": "34d079ec",
   "metadata": {
    "vscode": {
     "languageId": "shellscript"
    }
   },
   "outputs": [
    {
     "name": "stdout",
     "output_type": "stream",
     "text": [
      "f6f0bbeec3a2\n"
     ]
    }
   ],
   "source": [
    "# and now it's gonna be up again\n",
    "docker start $CONTAINER_ID"
   ]
  },
  {
   "cell_type": "code",
   "execution_count": 11,
   "id": "0e9d8fb6",
   "metadata": {
    "vscode": {
     "languageId": "shellscript"
    }
   },
   "outputs": [],
   "source": [
    "# in this guide we've already been removing containers and images\n",
    "# so you can test these commands yourself; hints you can only remove\n",
    "# containers you've stopped and you can only remove images for\n",
    "# which there are no more containers (stopped or otherwise)\n",
    "\n",
    "# docker rm $CONTAINER_ID\n",
    "# docker rmi nginx-static:latest\n",
    "\n",
    "# if you do run this, make sure to rebuild the nginx-static image\n",
    "# and create the web server again"
   ]
  },
  {
   "attachments": {},
   "cell_type": "markdown",
   "id": "5e249829",
   "metadata": {},
   "source": [
    "## docker exec\n",
    "This runs a command inside an existing container."
   ]
  },
  {
   "cell_type": "code",
   "execution_count": 12,
   "id": "65485bbe",
   "metadata": {
    "vscode": {
     "languageId": "shellscript"
    }
   },
   "outputs": [
    {
     "name": "stdout",
     "output_type": "stream",
     "text": [
      "<!DOCTYPE html>\n",
      "<html>\n",
      "<head>\n",
      "<title>Hello World</title>\n"
     ]
    }
   ],
   "source": [
    "# if you inspect the html tags on http://localhost:8081 you'll \n",
    "# see they're the exact same because that's the file on the\n",
    "# container being server by the web server\n",
    "\n",
    "docker exec $CONTAINER_ID \"cat\" \"/usr/share/nginx/html/index.html\" | head -n 4"
   ]
  },
  {
   "cell_type": "code",
   "execution_count": 13,
   "id": "fde0d29c",
   "metadata": {
    "vscode": {
     "languageId": "shellscript"
    }
   },
   "outputs": [],
   "source": [
    "# these commands you need to run in the terminal\n",
    "# CONTAINER_ID=$(docker ps -a --filter ancestor=nginx-static:latest -q)\n",
    "# docker exec -it $CONTAINER_ID /bin/bash\n",
    "\n",
    "# now that you have a shell running in the container\n",
    "# cat /usr/share/nginx/html/index.html | head -n 4"
   ]
  },
  {
   "attachments": {},
   "cell_type": "markdown",
   "id": "0fb8ef4b",
   "metadata": {},
   "source": [
    "## docker logs\n",
    "\n",
    "Docker also has a logging mechanism to keep track of what's happened inside a container. You can learn more about it __[here](https://docs.docker.com/engine/reference/commandline/logs/)__. We'll see a quick example."
   ]
  },
  {
   "cell_type": "code",
   "execution_count": 14,
   "id": "40d99c69",
   "metadata": {
    "vscode": {
     "languageId": "shellscript"
    }
   },
   "outputs": [
    {
     "name": "stdout",
     "output_type": "stream",
     "text": [
      "/docker-entrypoint.sh: /docker-entrypoint.d/ is not empty, will attempt to perform configuration\n",
      "/docker-entrypoint.sh: Looking for shell scripts in /docker-entrypoint.d/\n",
      "/docker-entrypoint.sh: Launching /docker-entrypoint.d/10-listen-on-ipv6-by-default.sh\n",
      "10-listen-on-ipv6-by-default.sh: info: /etc/nginx/conf.d/default.conf is not a file or does not exist\n",
      "/docker-entrypoint.sh: Launching /docker-entrypoint.d/20-envsubst-on-templates.sh\n",
      "/docker-entrypoint.sh: Launching /docker-entrypoint.d/30-tune-worker-processes.sh\n",
      "/docker-entrypoint.sh: Configuration complete; ready for start up\n",
      "2022/05/26 18:26:53 [notice] 1#1: using the \"epoll\" event method\n",
      "2022/05/26 18:26:53 [notice] 1#1: nginx/1.21.6\n",
      "2022/05/26 18:26:53 [notice] 1#1: built by gcc 10.3.1 20211027 (Alpine 10.3.1_git20211027) \n",
      "2022/05/26 18:26:53 [notice] 1#1: OS: Linux 5.10.16.3-microsoft-standard-WSL2\n",
      "2022/05/26 18:26:53 [notice] 1#1: getrlimit(RLIMIT_NOFILE): 1048576:1048576\n",
      "2022/05/26 18:26:53 [notice] 1#1: start worker processes\n",
      "2022/05/26 18:26:53 [notice] 1#1: start worker process 22\n",
      "2022/05/26 18:26:53 [notice] 1#1: start worker process 23\n",
      "2022/05/26 18:26:53 [notice] 1#1: start worker process 24\n",
      "2022/05/26 18:26:53 [notice] 1#1: start worker process 25\n",
      "2022/05/26 18:26:53 [notice] 1#1: start worker process 26\n",
      "2022/05/26 18:26:53 [notice] 1#1: start worker process 27\n",
      "2022/05/26 18:26:53 [notice] 1#1: start worker process 28\n",
      "2022/05/26 18:26:53 [notice] 1#1: start worker process 29\n",
      "2022/05/26 18:26:53 [notice] 1#1: start worker process 30\n",
      "2022/05/26 18:26:53 [notice] 1#1: start worker process 31\n",
      "2022/05/26 18:26:53 [notice] 1#1: start worker process 32\n",
      "2022/05/26 18:26:53 [notice] 1#1: start worker process 33\n",
      "2022/05/26 18:26:53 [notice] 1#1: start worker process 34\n",
      "2022/05/26 18:26:53 [notice] 1#1: start worker process 35\n",
      "2022/05/26 18:26:53 [notice] 1#1: start worker process 36\n",
      "2022/05/26 18:26:53 [notice] 1#1: start worker process 37\n",
      "2022/05/26 18:27:02 [notice] 1#1: signal 3 (SIGQUIT) received, shutting down\n",
      "2022/05/26 18:27:02 [notice] 22#22: gracefully shutting down\n",
      "2022/05/26 18:27:02 [notice] 23#23: gracefully shutting down\n",
      "2022/05/26 18:27:02 [notice] 24#24: gracefully shutting down\n",
      "2022/05/26 18:27:02 [notice] 23#23: exiting\n",
      "2022/05/26 18:27:02 [notice] 22#22: exiting\n",
      "2022/05/26 18:27:02 [notice] 24#24: exiting\n",
      "2022/05/26 18:27:02 [notice] 25#25: gracefully shutting down\n",
      "2022/05/26 18:27:02 [notice] 26#26: gracefully shutting down\n",
      "2022/05/26 18:27:02 [notice] 25#25: exiting\n",
      "2022/05/26 18:27:02 [notice] 26#26: exiting\n",
      "2022/05/26 18:27:02 [notice] 27#27: gracefully shutting down\n",
      "2022/05/26 18:27:02 [notice] 29#29: gracefully shutting down\n",
      "2022/05/26 18:27:02 [notice] 28#28: gracefully shutting down\n",
      "2022/05/26 18:27:02 [notice] 29#29: exiting\n",
      "2022/05/26 18:27:02 [notice] 30#30: gracefully shutting down\n",
      "2022/05/26 18:27:02 [notice] 27#27: exiting\n",
      "2022/05/26 18:27:02 [notice] 28#28: exiting\n",
      "2022/05/26 18:27:02 [notice] 30#30: exiting\n",
      "2022/05/26 18:27:02 [notice] 23#23: exit\n",
      "2022/05/26 18:27:02 [notice] 32#32: gracefully shutting down\n",
      "2022/05/26 18:27:02 [notice] 31#31: gracefully shutting down\n",
      "2022/05/26 18:27:02 [notice] 32#32: exiting\n",
      "2022/05/26 18:27:02 [notice] 24#24: exit\n",
      "2022/05/26 18:27:02 [notice] 22#22: exit\n",
      "2022/05/26 18:27:02 [notice] 31#31: exiting\n",
      "2022/05/26 18:27:02 [notice] 25#25: exit\n",
      "2022/05/26 18:27:02 [notice] 33#33: gracefully shutting down\n",
      "2022/05/26 18:27:02 [notice] 34#34: gracefully shutting down\n",
      "2022/05/26 18:27:02 [notice] 26#26: exit\n",
      "2022/05/26 18:27:02 [notice] 33#33: exiting\n",
      "2022/05/26 18:27:02 [notice] 34#34: exiting\n",
      "2022/05/26 18:27:02 [notice] 36#36: gracefully shutting down\n",
      "2022/05/26 18:27:02 [notice] 27#27: exit\n",
      "2022/05/26 18:27:02 [notice] 36#36: exiting\n",
      "2022/05/26 18:27:02 [notice] 29#29: exit\n",
      "2022/05/26 18:27:02 [notice] 30#30: exit\n",
      "2022/05/26 18:27:02 [notice] 32#32: exit\n",
      "2022/05/26 18:27:02 [notice] 31#31: exit\n",
      "2022/05/26 18:27:02 [notice] 28#28: exit\n",
      "2022/05/26 18:27:02 [notice] 33#33: exit\n",
      "2022/05/26 18:27:02 [notice] 34#34: exit\n",
      "2022/05/26 18:27:02 [notice] 36#36: exit\n",
      "2022/05/26 18:27:02 [notice] 37#37: gracefully shutting down\n",
      "2022/05/26 18:27:02 [notice] 37#37: exiting\n",
      "2022/05/26 18:27:02 [notice] 35#35: gracefully shutting down\n",
      "2022/05/26 18:27:02 [notice] 35#35: exiting\n",
      "2022/05/26 18:27:02 [notice] 37#37: exit\n",
      "2022/05/26 18:27:02 [notice] 35#35: exit\n",
      "2022/05/26 18:27:02 [notice] 1#1: signal 17 (SIGCHLD) received from 28\n",
      "2022/05/26 18:27:02 [notice] 1#1: worker process 24 exited with code 0\n",
      "2022/05/26 18:27:02 [notice] 1#1: worker process 28 exited with code 0\n",
      "2022/05/26 18:27:02 [notice] 1#1: worker process 29 exited with code 0\n",
      "2022/05/26 18:27:02 [notice] 1#1: signal 29 (SIGIO) received\n",
      "2022/05/26 18:27:02 [notice] 1#1: signal 17 (SIGCHLD) received from 27\n",
      "2022/05/26 18:27:02 [notice] 1#1: worker process 22 exited with code 0\n",
      "2022/05/26 18:27:02 [notice] 1#1: worker process 26 exited with code 0\n",
      "2022/05/26 18:27:02 [notice] 1#1: worker process 27 exited with code 0\n",
      "2022/05/26 18:27:02 [notice] 1#1: worker process 32 exited with code 0\n",
      "2022/05/26 18:27:02 [notice] 1#1: worker process 33 exited with code 0\n",
      "2022/05/26 18:27:02 [notice] 1#1: worker process 34 exited with code 0\n",
      "2022/05/26 18:27:02 [notice] 1#1: worker process 35 exited with code 0\n",
      "2022/05/26 18:27:02 [notice] 1#1: worker process 36 exited with code 0\n",
      "2022/05/26 18:27:02 [notice] 1#1: signal 29 (SIGIO) received\n",
      "2022/05/26 18:27:02 [notice] 1#1: signal 17 (SIGCHLD) received from 26\n",
      "2022/05/26 18:27:02 [notice] 1#1: signal 17 (SIGCHLD) received from 25\n",
      "2022/05/26 18:27:02 [notice] 1#1: worker process 25 exited with code 0\n",
      "2022/05/26 18:27:02 [notice] 1#1: signal 29 (SIGIO) received\n",
      "2022/05/26 18:27:02 [notice] 1#1: signal 17 (SIGCHLD) received from 31\n",
      "2022/05/26 18:27:02 [notice] 1#1: worker process 31 exited with code 0\n",
      "2022/05/26 18:27:02 [notice] 1#1: signal 29 (SIGIO) received\n",
      "2022/05/26 18:27:02 [notice] 1#1: signal 17 (SIGCHLD) received from 23\n",
      "2022/05/26 18:27:02 [notice] 1#1: worker process 23 exited with code 0\n",
      "2022/05/26 18:27:02 [notice] 1#1: signal 29 (SIGIO) received\n",
      "2022/05/26 18:27:02 [notice] 1#1: signal 17 (SIGCHLD) received from 37\n",
      "2022/05/26 18:27:02 [notice] 1#1: worker process 37 exited with code 0\n",
      "2022/05/26 18:27:02 [notice] 1#1: signal 29 (SIGIO) received\n",
      "2022/05/26 18:27:02 [notice] 1#1: signal 17 (SIGCHLD) received from 30\n",
      "2022/05/26 18:27:02 [notice] 1#1: worker process 30 exited with code 0\n",
      "2022/05/26 18:27:02 [notice] 1#1: exit\n",
      "/docker-entrypoint.sh: /docker-entrypoint.d/ is not empty, will attempt to perform configuration\n",
      "/docker-entrypoint.sh: Looking for shell scripts in /docker-entrypoint.d/\n",
      "/docker-entrypoint.sh: Launching /docker-entrypoint.d/10-listen-on-ipv6-by-default.sh\n",
      "10-listen-on-ipv6-by-default.sh: info: /etc/nginx/conf.d/default.conf is not a file or does not exist\n",
      "/docker-entrypoint.sh: Launching /docker-entrypoint.d/20-envsubst-on-templates.sh\n",
      "/docker-entrypoint.sh: Launching /docker-entrypoint.d/30-tune-worker-processes.sh\n",
      "/docker-entrypoint.sh: Configuration complete; ready for start up\n",
      "2022/05/26 18:27:03 [notice] 1#1: using the \"epoll\" event method\n",
      "2022/05/26 18:27:03 [notice] 1#1: nginx/1.21.6\n",
      "2022/05/26 18:27:03 [notice] 1#1: built by gcc 10.3.1 20211027 (Alpine 10.3.1_git20211027) \n",
      "2022/05/26 18:27:03 [notice] 1#1: OS: Linux 5.10.16.3-microsoft-standard-WSL2\n",
      "2022/05/26 18:27:03 [notice] 1#1: getrlimit(RLIMIT_NOFILE): 1048576:1048576\n",
      "2022/05/26 18:27:03 [notice] 1#1: start worker processes\n",
      "2022/05/26 18:27:03 [notice] 1#1: start worker process 22\n",
      "2022/05/26 18:27:03 [notice] 1#1: start worker process 23\n",
      "2022/05/26 18:27:03 [notice] 1#1: start worker process 24\n",
      "2022/05/26 18:27:03 [notice] 1#1: start worker process 25\n",
      "2022/05/26 18:27:03 [notice] 1#1: start worker process 26\n",
      "2022/05/26 18:27:03 [notice] 1#1: start worker process 27\n",
      "2022/05/26 18:27:03 [notice] 1#1: start worker process 28\n",
      "2022/05/26 18:27:03 [notice] 1#1: start worker process 29\n",
      "2022/05/26 18:27:03 [notice] 1#1: start worker process 30\n",
      "2022/05/26 18:27:03 [notice] 1#1: start worker process 31\n",
      "2022/05/26 18:27:03 [notice] 1#1: start worker process 32\n",
      "2022/05/26 18:27:03 [notice] 1#1: start worker process 33\n",
      "2022/05/26 18:27:03 [notice] 1#1: start worker process 34\n",
      "2022/05/26 18:27:03 [notice] 1#1: start worker process 35\n",
      "2022/05/26 18:27:03 [notice] 1#1: start worker process 36\n",
      "2022/05/26 18:27:03 [notice] 1#1: start worker process 37\n",
      "\n"
     ]
    }
   ],
   "source": [
    "# take note that you'll have to manually stop this cell from\n",
    "# executing since it's waiting for more logs to appear\n",
    "docker logs --follow $CONTAINER_ID\n",
    "\n",
    "# at the end of the output you'll see new lines every time you hit\n",
    "# refresh on your browser on http://localhost:8081 "
   ]
  },
  {
   "attachments": {},
   "cell_type": "markdown",
   "id": "08372aab",
   "metadata": {},
   "source": [
    "# Assignment\n",
    "\n",
    "You may have noticed that the static website's image is missing. Your task is to fix this, document the steps you've taken and answer some questions.\n",
    "+ First look into \"index.html\" and find where the image tag source path. Also you need to read __[here](https://docs.nginx.com/nginx/admin-guide/web-server/serving-static-content/)__ how static serving works and have a look in \"hello.conf\".\n",
    "+ After you discover the container path where you need to put the image you have to actually put it there. There are at least two ways to do this and you can chose either one to solve the problem. It is highly recommended to solve this assignment on your host operating system, not in the container we set up for the notebook server.\n",
    "+ Answer why one method is preferable over the other (what are the advantages)."
   ]
  },
  {
   "attachments": {},
   "cell_type": "markdown",
   "id": "4e234b18",
   "metadata": {},
   "source": [
    "Solution:\n",
    "\n",
    "Cele doua metode pe care le-as putea folosi pentru a adauga logo-ul in imaginea container-ului sunt fie folosind instructiunea ADD in Dockerfile inainte de a buildui imaginea container-ului, fie cu comanda docker cp in terminal cat timp containerul ruleaza. Varianta cu docker cp nu este o varianta ideala pentru automatizare sau cazuri in care sunt necesare actualizari frecvente, asa ca am ales sa folosesc varianta cu ADD, fiind o modalitate care nu necesita interventie manuala pentru a copia imaginea in container."
   ]
  }
 ],
 "metadata": {
  "kernelspec": {
   "display_name": "Bash",
   "language": "bash",
   "name": "bash"
  },
  "language_info": {
   "codemirror_mode": "shell",
   "file_extension": ".sh",
   "mimetype": "text/x-sh",
   "name": "bash"
  }
 },
 "nbformat": 4,
 "nbformat_minor": 5
}
