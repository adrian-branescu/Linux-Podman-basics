{
 "cells": [
  {
   "cell_type": "markdown",
   "metadata": {},
   "source": [
    "# Linux"
   ]
  },
  {
   "cell_type": "code",
   "execution_count": 2,
   "metadata": {
    "vscode": {
     "languageId": "shellscript"
    }
   },
   "outputs": [
    {
     "ename": "SyntaxError",
     "evalue": "invalid syntax (3899219209.py, line 1)",
     "output_type": "error",
     "traceback": [
      "\u001b[0;36m  Cell \u001b[0;32mIn[2], line 1\u001b[0;36m\u001b[0m\n\u001b[0;31m    wget http://elf.cs.pub.ro/uso/res/labs/lab3/lab3.zip\u001b[0m\n\u001b[0m         ^\u001b[0m\n\u001b[0;31mSyntaxError\u001b[0m\u001b[0;31m:\u001b[0m invalid syntax\n"
     ]
    }
   ],
   "source": [
    "wget http://elf.cs.pub.ro/uso/res/labs/lab3/lab3.zip"
   ]
  },
  {
   "cell_type": "markdown",
   "metadata": {},
   "source": [
    "How do I install `wget`?\n",
    "\n",
    "Hint:"
   ]
  },
  {
   "cell_type": "code",
   "execution_count": 1,
   "metadata": {
    "scrolled": true,
    "vscode": {
     "languageId": "shellscript"
    }
   },
   "outputs": [
    {
     "name": "stdout",
     "output_type": "stream",
     "text": [
      "PRETTY_NAME=\"Ubuntu 22.04.2 LTS\"\r\n",
      "NAME=\"Ubuntu\"\r\n",
      "VERSION_ID=\"22.04\"\r\n",
      "VERSION=\"22.04.2 LTS (Jammy Jellyfish)\"\r\n",
      "VERSION_CODENAME=jammy\r\n",
      "ID=ubuntu\r\n",
      "ID_LIKE=debian\r\n",
      "HOME_URL=\"https://www.ubuntu.com/\"\r\n",
      "SUPPORT_URL=\"https://help.ubuntu.com/\"\r\n",
      "BUG_REPORT_URL=\"https://bugs.launchpad.net/ubuntu/\"\r\n",
      "PRIVACY_POLICY_URL=\"https://www.ubuntu.com/legal/terms-and-policies/privacy-policy\"\r\n",
      "UBUNTU_CODENAME=jammy\r\n"
     ]
    }
   ],
   "source": [
    "cat /etc/os-release"
   ]
  },
  {
   "cell_type": "code",
   "execution_count": null,
   "metadata": {
    "vscode": {
     "languageId": "shellscript"
    }
   },
   "outputs": [],
   "source": [
    "curl -o lab3.zip http://elf.cs.pub.ro/uso/res/labs/lab3/lab3.zip"
   ]
  },
  {
   "cell_type": "code",
   "execution_count": null,
   "metadata": {
    "vscode": {
     "languageId": "shellscript"
    }
   },
   "outputs": [],
   "source": [
    "unzip lab3.zip"
   ]
  },
  {
   "cell_type": "code",
   "execution_count": null,
   "metadata": {
    "vscode": {
     "languageId": "shellscript"
    }
   },
   "outputs": [],
   "source": [
    "du -sh ./*"
   ]
  },
  {
   "cell_type": "markdown",
   "metadata": {},
   "source": [
    "Monitor progress of copy / compress commands on different distributions:\n",
    "\n",
    "https://www.tecmint.com/monitor-copy-backup-tar-progress-in-linux-using-pv-command/"
   ]
  },
  {
   "cell_type": "code",
   "execution_count": null,
   "metadata": {
    "vscode": {
     "languageId": "shellscript"
    }
   },
   "outputs": [],
   "source": [
    "# Enable EPEL repository\n",
    "dnf install https://dl.fedoraproject.org/pub/epel/epel-release-latest-8.noarch.rpm\n",
    "\n",
    "dnf install -y pv"
   ]
  },
  {
   "cell_type": "markdown",
   "metadata": {},
   "source": [
    "WTF is this following line doing?\n",
    "\n",
    "Homework 1: Explain each part of this one-liner bash script."
   ]
  },
  {
   "cell_type": "code",
   "execution_count": null,
   "metadata": {
    "vscode": {
     "languageId": "shellscript"
    }
   },
   "outputs": [],
   "source": [
    "tar cf - archive -P | pv -s $(du -sb archive | awk '{print $1}') | gzip > lab3.tar.gz"
   ]
  },
  {
   "cell_type": "markdown",
   "metadata": {},
   "source": [
    "What type of file is `lab3.tar.gz`? What's the difference from `lab3.zip`?"
   ]
  },
  {
   "cell_type": "markdown",
   "metadata": {},
   "source": [
    "What's the difference between a `.tar` file and a `.tar.gz` one?"
   ]
  },
  {
   "cell_type": "markdown",
   "metadata": {},
   "source": [
    "### Homework Solution:\n",
    "\n",
    "We split the one-liner into three parts:\n",
    "\n",
    "1) ``` tar cf - archive -P ```\n",
    "\n",
    "2) ``` pv -s $(du -sb archive | awk '{print $1}') ```\n",
    "\n",
    "3) ``` gzip > lab3.tar.gz ```\n",
    "\n",
    "\n",
    "#### The first part\n",
    "The first part of the one-liner executes the tar archiving utility using the following options:\n",
    "\n",
    "```-c``` : Creates a new archive.\n",
    "\n",
    "```-f``` : Set the name of the archive to be created.\n",
    "\n",
    "\n",
    "After the first two options are given in the traditional style (a cluster of option letters), a list of two arguments follow, that supply arguments to the previous options. The ```-f``` option receives the argument \"-\", specifying that the archive should be written to stdout. The ```-c``` option receives the argument \"archive\", so the file/folder with that name will be archived to stdout. \n",
    "Finally, the ```-P``` option specifies that leading slashes should not be stripped from the file names when creating the archive.\n",
    "\n",
    "The result of the tar command is then piped to the second part.\n",
    "\n",
    "#### The second part\n",
    "\n",
    "The second part just redirects the output from the first part to the third part while monitoring the progress\n",
    "of data using ```pv```. Because ```pv``` needs to know the size in bytes of the input data to correctly show the progress bar, we approximate the size of the archive created in the first part by using the command <br> ```du -sb archive```. \n",
    "We use the ```b``` flag to get the size of the file/folder in bytes. The ```s``` flag could have been omitted. The ```du``` command produces two tokens: the size in bytes and the filename. To extract the first token, we use\n",
    "```awk '{print $1}')```. Note that we can only approximate the size of the archive because we know that ```tar``` does not compress the data, and does not add much metadata.\n",
    "\n",
    "\n",
    "#### The third part\n",
    "The third part uses ```gzip``` to compress the data that is piped from the second part to the given file. \n",
    "\n",
    "#### Summary\n",
    "The command creates a tar.gz archive and displays a progress bar.\n",
    "    "
   ]
  },
  {
   "cell_type": "code",
   "execution_count": null,
   "metadata": {
    "vscode": {
     "languageId": "shellscript"
    }
   },
   "outputs": [],
   "source": [
    "echo \"something to search in the haystack\" > .hidden1.txt\n",
    "mkdir -p some/deeper/folder\n",
    "cp .hidden1.txt some/deeper/folder"
   ]
  },
  {
   "cell_type": "markdown",
   "metadata": {},
   "source": [
    "How do I list the folder in order to see the `.hidden1.txt` file?"
   ]
  },
  {
   "cell_type": "markdown",
   "metadata": {},
   "source": [
    "How do I find the `.hidden1.txt` file recursively starting from the current folder?"
   ]
  },
  {
   "cell_type": "markdown",
   "metadata": {},
   "source": [
    "How do I find the absolute path to the current folder?"
   ]
  },
  {
   "cell_type": "markdown",
   "metadata": {},
   "source": [
    "How do I find all files containing the `haystack` string recursively starting from the current folder?"
   ]
  },
  {
   "cell_type": "markdown",
   "metadata": {},
   "source": []
  }
 ],
 "metadata": {
  "kernelspec": {
   "display_name": "Python 3 (ipykernel)",
   "language": "python",
   "name": "python3"
  },
  "language_info": {
   "codemirror_mode": {
    "name": "ipython",
    "version": 3
   },
   "file_extension": ".py",
   "mimetype": "text/x-python",
   "name": "python",
   "nbconvert_exporter": "python",
   "pygments_lexer": "ipython3",
   "version": "3.10.6"
  }
 },
 "nbformat": 4,
 "nbformat_minor": 2
}
