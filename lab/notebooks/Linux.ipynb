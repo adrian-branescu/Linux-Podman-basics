{
 "cells": [
  {
   "attachments": {},
   "cell_type": "markdown",
   "metadata": {},
   "source": [
    "# Linux"
   ]
  },
  {
   "cell_type": "code",
   "execution_count": null,
   "metadata": {
    "vscode": {
     "languageId": "shellscript"
    }
   },
   "outputs": [],
   "source": [
    "wget http://elf.cs.pub.ro/uso/res/labs/lab3/lab3.zip"
   ]
  },
  {
   "attachments": {},
   "cell_type": "markdown",
   "metadata": {},
   "source": [
    "How do I install `wget`?\n",
    "\n",
    "Hint:"
   ]
  },
  {
   "cell_type": "code",
   "execution_count": null,
   "metadata": {
    "vscode": {
     "languageId": "shellscript"
    }
   },
   "outputs": [],
   "source": [
    "cat /etc/os-release"
   ]
  },
  {
   "cell_type": "code",
   "execution_count": null,
   "metadata": {
    "vscode": {
     "languageId": "shellscript"
    }
   },
   "outputs": [],
   "source": [
    "curl -o lab3.zip http://elf.cs.pub.ro/uso/res/labs/lab3/lab3.zip"
   ]
  },
  {
   "cell_type": "code",
   "execution_count": null,
   "metadata": {
    "vscode": {
     "languageId": "shellscript"
    }
   },
   "outputs": [],
   "source": [
    "unzip lab3.zip"
   ]
  },
  {
   "cell_type": "code",
   "execution_count": null,
   "metadata": {
    "vscode": {
     "languageId": "shellscript"
    }
   },
   "outputs": [],
   "source": [
    "du -sh ./*"
   ]
  },
  {
   "attachments": {},
   "cell_type": "markdown",
   "metadata": {},
   "source": [
    "Monitor progress of copy / compress commands on different distributions:\n",
    "\n",
    "https://www.tecmint.com/monitor-copy-backup-tar-progress-in-linux-using-pv-command/"
   ]
  },
  {
   "cell_type": "code",
   "execution_count": null,
   "metadata": {
    "vscode": {
     "languageId": "shellscript"
    }
   },
   "outputs": [],
   "source": [
    "# Enable EPEL repository\n",
    "dnf install https://dl.fedoraproject.org/pub/epel/epel-release-latest-8.noarch.rpm\n",
    "\n",
    "dnf install -y pv"
   ]
  },
  {
   "attachments": {},
   "cell_type": "markdown",
   "metadata": {},
   "source": [
    "WTF is this following line doing?\n",
    "\n",
    "Homework 1: Explain each part of this one-liner bash script."
   ]
  },
  {
   "cell_type": "code",
   "execution_count": null,
   "metadata": {
    "vscode": {
     "languageId": "shellscript"
    }
   },
   "outputs": [],
   "source": [
    "tar cf - archive -P | pv -s $(du -sb archive | awk '{print $1}') | gzip > lab3.tar.gz"
   ]
  },
  {
   "attachments": {},
   "cell_type": "markdown",
   "metadata": {},
   "source": [
    "Solution:\n",
    "\n",
    "`tar cf - archive -P` creeaza o arhiva tar pentru directorul \"archive\". Flag-ul `c` indica faptul ca se creeaza o arhiva noua, iar  `f -` specifica ca output-ul trebuie trimis catre stdout. Flag-ul `-P` este utilizat pentru a pastra caile absolute ale fisierelor in timpul arhivarii.\n",
    "\n",
    "`du -sb archive` calculeaza dimensiunea totala a directorului “archive”. Flag-ul `-b` specifica ca dimensiunea sa fie afisata in bytes, iar `-s` specifica sa fie afisata doar dimensiunea totala (sumarizare). Output-ul comenzii este dat ca input catre `awk '{print $1}' ` care este utilizat pentru a extrage si afisa primul camp, folosind spatiul ca delimitator implicit. In cazul dat, rezultatul comenzii va fi valoarea dimensiunii in bytes a folder-ului archive.\n",
    "\n",
    "`pv -s $(du -sb archive | awk '{print $1}’)` afiseaza progresul transferului de date intre tar si gzip, specificand dimensiunea totala a datelor care urmeaza sa fie transferate\n",
    "\n",
    "`gzip > lab3.tar.gz` comprima arhiva si redirectioneaza outupul in fisierul  lab3.tar.gz.\n",
    "\n",
    "Rezultatul final al comenzii va fi arhiva tar comprimata `lab3.tar.gz`, iar in terminal vor fi afisate informatii despre progresul transferului de date."
   ]
  },
  {
   "attachments": {},
   "cell_type": "markdown",
   "metadata": {},
   "source": [
    "What type of file is `lab3.tar.gz`? What's the difference from `lab3.zip`?"
   ]
  },
  {
   "attachments": {},
   "cell_type": "markdown",
   "metadata": {},
   "source": [
    "What's the difference between a `.tar` file and a `.tar.gz` one?"
   ]
  },
  {
   "cell_type": "code",
   "execution_count": null,
   "metadata": {
    "vscode": {
     "languageId": "shellscript"
    }
   },
   "outputs": [],
   "source": [
    "echo \"something to search in the haystack\" > .hidden1.txt\n",
    "mkdir -p some/deeper/folder\n",
    "cp .hidden1.txt some/deeper/folder"
   ]
  },
  {
   "attachments": {},
   "cell_type": "markdown",
   "metadata": {},
   "source": [
    "How do I list the folder in order to see the `.hidden1.txt` file?"
   ]
  },
  {
   "attachments": {},
   "cell_type": "markdown",
   "metadata": {},
   "source": [
    "How do I find the `.hidden1.txt` file recursively starting from the current folder?"
   ]
  },
  {
   "attachments": {},
   "cell_type": "markdown",
   "metadata": {},
   "source": [
    "How do I find the absolute path to the current folder?"
   ]
  },
  {
   "attachments": {},
   "cell_type": "markdown",
   "metadata": {},
   "source": [
    "How do I find all files containing the `haystack` string recursively starting from the current folder?"
   ]
  },
  {
   "attachments": {},
   "cell_type": "markdown",
   "metadata": {},
   "source": []
  }
 ],
 "metadata": {
  "kernelspec": {
   "display_name": "Python 3",
   "language": "python",
   "name": "python3"
  },
  "language_info": {
   "name": "python",
   "version": "3.6.8"
  },
  "orig_nbformat": 4
 },
 "nbformat": 4,
 "nbformat_minor": 2
}
