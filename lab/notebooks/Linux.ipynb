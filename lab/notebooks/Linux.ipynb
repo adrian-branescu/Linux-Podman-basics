{
 "cells": [
  {
   "attachments": {},
   "cell_type": "markdown",
   "metadata": {},
   "source": [
    "# Linux"
   ]
  },
  {
   "cell_type": "code",
   "execution_count": null,
   "metadata": {
    "vscode": {
     "languageId": "shellscript"
    }
   },
   "outputs": [],
   "source": [
    "wget http://elf.cs.pub.ro/uso/res/labs/lab3/lab3.zip"
   ]
  },
  {
   "attachments": {},
   "cell_type": "markdown",
   "metadata": {},
   "source": [
    "How do I install `wget`?\n",
    "\n",
    "Hint:"
   ]
  },
  {
   "cell_type": "code",
   "execution_count": null,
   "metadata": {
    "vscode": {
     "languageId": "shellscript"
    }
   },
   "outputs": [],
   "source": [
    "cat /etc/os-release"
   ]
  },
  {
   "cell_type": "code",
   "execution_count": null,
   "metadata": {
    "vscode": {
     "languageId": "shellscript"
    }
   },
   "outputs": [],
   "source": [
    "curl -o lab3.zip http://elf.cs.pub.ro/uso/res/labs/lab3/lab3.zip"
   ]
  },
  {
   "cell_type": "code",
   "execution_count": null,
   "metadata": {
    "vscode": {
     "languageId": "shellscript"
    }
   },
   "outputs": [],
   "source": [
    "unzip lab3.zip"
   ]
  },
  {
   "cell_type": "code",
   "execution_count": null,
   "metadata": {
    "vscode": {
     "languageId": "shellscript"
    }
   },
   "outputs": [],
   "source": [
    "du -sh ./*"
   ]
  },
  {
   "attachments": {},
   "cell_type": "markdown",
   "metadata": {},
   "source": [
    "Monitor progress of copy / compress commands on different distributions:\n",
    "\n",
    "https://www.tecmint.com/monitor-copy-backup-tar-progress-in-linux-using-pv-command/"
   ]
  },
  {
   "cell_type": "code",
   "execution_count": null,
   "metadata": {
    "vscode": {
     "languageId": "shellscript"
    }
   },
   "outputs": [],
   "source": [
    "# Enable EPEL repository\n",
    "dnf install https://dl.fedoraproject.org/pub/epel/epel-release-latest-8.noarch.rpm\n",
    "\n",
    "dnf install -y pv"
   ]
  },
  {
   "attachments": {},
   "cell_type": "markdown",
   "metadata": {},
   "source": []
  },
  {
   "attachments": {},
   "cell_type": "markdown",
   "metadata": {},
   "source": [
    "WTF is this following line doing?\n",
    "\n",
    "Homework 1: Explain each part of this one-liner bash script."
   ]
  },
  {
   "cell_type": "code",
   "execution_count": null,
   "metadata": {
    "vscode": {
     "languageId": "shellscript"
    }
   },
   "outputs": [],
   "source": [
    "tar cf - archive -P | pv -s $(du -sb archive | awk '{print $1}') | gzip > lab3.tar.gz"
   ]
  },
  {
   "attachments": {},
   "cell_type": "markdown",
   "metadata": {},
   "source": [
    "In the first part of this one-liner bash script we create a tar archive named \"archive\". We use the option \"-c\" for creating a new archive and the option \"-f\" to specify that the archive will be written on the standard output (stdout) and not on a file from disk. We use the option \"-P\" to include the absolute path of the files we want to include in the archive. \n",
    "\"|\" is a pipe operator that ensure the transmission of output between commands. \n",
    "So, we take the output from tar and redirect it to \"pv\" which is used for display the progress of data transfer through the pipe. The \"pv\" receives the expected size of the data from the \"-s\" option. \"du\" calculates the size of archive, which is the director specified and the option \"-b\" displays the size in bytes. \"awk\"  is used to process text files and \"{print $1}\" prints the first column of each line. In other words it will be displayed a progress bar which shows the amount of data transferred so far relative to the total size of the data. \n",
    "In the last part of the one-liner bash script we use \"gzip\" to compress the data received through the pipe operator \"|\". We use the \">\" operator to redirect the output of the previous command to a file named lab3.tar.gz. "
   ]
  },
  {
   "attachments": {},
   "cell_type": "markdown",
   "metadata": {},
   "source": [
    "What type of file is `lab3.tar.gz`? What's the difference from `lab3.zip`?"
   ]
  },
  {
   "attachments": {},
   "cell_type": "markdown",
   "metadata": {},
   "source": [
    "What's the difference between a `.tar` file and a `.tar.gz` one?"
   ]
  },
  {
   "attachments": {},
   "cell_type": "markdown",
   "metadata": {},
   "source": []
  },
  {
   "cell_type": "code",
   "execution_count": null,
   "metadata": {
    "vscode": {
     "languageId": "shellscript"
    }
   },
   "outputs": [],
   "source": [
    "echo \"something to search in the haystack\" > .hidden1.txt\n",
    "mkdir -p some/deeper/folder\n",
    "cp .hidden1.txt some/deeper/folder"
   ]
  },
  {
   "attachments": {},
   "cell_type": "markdown",
   "metadata": {},
   "source": [
    "How do I list the folder in order to see the `.hidden1.txt` file?"
   ]
  },
  {
   "attachments": {},
   "cell_type": "markdown",
   "metadata": {},
   "source": [
    "How do I find the `.hidden1.txt` file recursively starting from the current folder?"
   ]
  },
  {
   "attachments": {},
   "cell_type": "markdown",
   "metadata": {},
   "source": [
    "How do I find the absolute path to the current folder?"
   ]
  },
  {
   "attachments": {},
   "cell_type": "markdown",
   "metadata": {},
   "source": [
    "How do I find all files containing the `haystack` string recursively starting from the current folder?"
   ]
  },
  {
   "attachments": {},
   "cell_type": "markdown",
   "metadata": {},
   "source": []
  }
 ],
 "metadata": {
  "kernelspec": {
   "display_name": "Python 3",
   "language": "python",
   "name": "python3"
  },
  "language_info": {
   "name": "python",
   "version": "3.6.8"
  },
  "orig_nbformat": 4
 },
 "nbformat": 4,
 "nbformat_minor": 2
}
