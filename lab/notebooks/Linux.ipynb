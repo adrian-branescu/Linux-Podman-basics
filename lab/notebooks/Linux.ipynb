{
 "cells": [
  {
   "attachments": {},
   "cell_type": "markdown",
   "metadata": {},
   "source": [
    "# Linux"
   ]
  },
  {
   "cell_type": "code",
   "execution_count": null,
   "metadata": {
    "vscode": {
     "languageId": "shellscript"
    }
   },
   "outputs": [],
   "source": [
    "wget http://elf.cs.pub.ro/uso/res/labs/lab3/lab3.zip"
   ]
  },
  {
   "attachments": {},
   "cell_type": "markdown",
   "metadata": {},
   "source": [
    "How do I install `wget`?\n",
    "\n",
    "Hint:"
   ]
  },
  {
   "cell_type": "code",
   "execution_count": null,
   "metadata": {
    "vscode": {
     "languageId": "shellscript"
    }
   },
   "outputs": [],
   "source": [
    "cat /etc/os-release"
   ]
  },
  {
   "cell_type": "code",
   "execution_count": null,
   "metadata": {
    "vscode": {
     "languageId": "shellscript"
    }
   },
   "outputs": [],
   "source": [
    "curl -o lab3.zip http://elf.cs.pub.ro/uso/res/labs/lab3/lab3.zip"
   ]
  },
  {
   "cell_type": "code",
   "execution_count": null,
   "metadata": {
    "vscode": {
     "languageId": "shellscript"
    }
   },
   "outputs": [],
   "source": [
    "unzip lab3.zip"
   ]
  },
  {
   "cell_type": "code",
   "execution_count": null,
   "metadata": {
    "vscode": {
     "languageId": "shellscript"
    }
   },
   "outputs": [],
   "source": [
    "du -sh ./*"
   ]
  },
  {
   "attachments": {},
   "cell_type": "markdown",
   "metadata": {},
   "source": [
    "Monitor progress of copy / compress commands on different distributions:\n",
    "\n",
    "https://www.tecmint.com/monitor-copy-backup-tar-progress-in-linux-using-pv-command/"
   ]
  },
  {
   "cell_type": "code",
   "execution_count": null,
   "metadata": {
    "vscode": {
     "languageId": "shellscript"
    }
   },
   "outputs": [],
   "source": [
    "# Enable EPEL repository\n",
    "dnf install https://dl.fedoraproject.org/pub/epel/epel-release-latest-8.noarch.rpm\n",
    "\n",
    "dnf install -y pv"
   ]
  },
  {
   "attachments": {},
   "cell_type": "markdown",
   "metadata": {},
   "source": [
    "WTF is this following line doing?\n",
    "\n",
    "Homework 1: Explain each part of this one-liner bash script."
   ]
  },
  {
   "cell_type": "code",
   "execution_count": null,
   "metadata": {
    "vscode": {
     "languageId": "shellscript"
    }
   },
   "outputs": [],
   "source": [
    "tar cf - archive -P | pv -s $(du -sb archive | awk '{print $1}') | gzip > lab3.tar.gz"
   ]
  },
  {
   "cell_type": "markdown",
   "metadata": {},
   "source": [
    "Answer:\n",
    "1. tar cf - archive -P\n",
    "- creates new archive with -c flag\n",
    "- -f flag specifies that the following argument is the name of the archive which will be \"archive\"\n",
    "- -P flag preserves the full path of the files\n",
    "- - specifies that the output is written to stdout\n",
    "2. du -sb archive \n",
    "- du command estimates file space usage\n",
    "- s is a summarization flag which prints only the total size of the archive\n",
    "- b flag prints the size in bytes\n",
    "- archive is the file name\n",
    "3. awk '{print $1}'\n",
    "- awk is a pattern scanning and processing language\n",
    "- '{print $1}' is a pattern which prints the first column of the input\n",
    "4. du -sb archive | awk '{print $1}'\n",
    "- du -sb archive is the input for the awk command\n",
    "- only the first column of the input is printed which is the size of the archive in bytes\n",
    "5. pv -s $(du -sb archive | awk '{print $1}')\n",
    "- pv monitors progress of data through a pipe\n",
    "- -s flag will specify the total amount of data to be transferred which we will get from the previous command\n",
    "6. gzip > lab3.tar.gz\n",
    "- gzip is a compression utility\n",
    "- compress the file to lab3.tar.gz\n",
    "7. tar cf - archive -P | pv -s $(du -sb archive | awk '{print $1}') | gzip > lab3.tar.gz\n",
    "- we will create a tar archive with the name archive with the full path of files preserved and output is written to stdout\n",
    "- the output of the previous command will be the input for the pv command which will monitor the progress of the data through the pipe\n",
    "- the output of the pv command will be the input for the gzip command which will compress the file to lab3.tar.gz\n"
   ]
  },
  {
   "attachments": {},
   "cell_type": "markdown",
   "metadata": {},
   "source": [
    "What type of file is `lab3.tar.gz`? What's the differencez from `lab3.zip`?"
   ]
  },
  {
   "attachments": {},
   "cell_type": "markdown",
   "metadata": {},
   "source": [
    "What's the difference between a `.tar` file and a `.tar.gz` one?"
   ]
  },
  {
   "cell_type": "code",
   "execution_count": null,
   "metadata": {
    "vscode": {
     "languageId": "shellscript"
    }
   },
   "outputs": [],
   "source": [
    "echo \"something to search in the haystack\" > .hidden1.txt\n",
    "mkdir -p some/deeper/folder\n",
    "cp .hidden1.txt some/deeper/folder"
   ]
  },
  {
   "attachments": {},
   "cell_type": "markdown",
   "metadata": {},
   "source": [
    "How do I list the folder in order to see the `.hidden1.txt` file?"
   ]
  },
  {
   "attachments": {},
   "cell_type": "markdown",
   "metadata": {},
   "source": [
    "How do I find the `.hidden1.txt` file recursively starting from the current folder?"
   ]
  },
  {
   "attachments": {},
   "cell_type": "markdown",
   "metadata": {},
   "source": [
    "How do I find the absolute path to the current folder?"
   ]
  },
  {
   "attachments": {},
   "cell_type": "markdown",
   "metadata": {},
   "source": [
    "How do I find all files containing the `haystack` string recursively starting from the current folder?"
   ]
  },
  {
   "attachments": {},
   "cell_type": "markdown",
   "metadata": {},
   "source": []
  }
 ],
 "metadata": {
  "kernelspec": {
   "display_name": "Python 3.8.2 64-bit",
   "language": "python",
   "name": "python3"
  },
  "language_info": {
   "name": "python",
   "version": "3.8.2"
  },
  "orig_nbformat": 4,
  "vscode": {
   "interpreter": {
    "hash": "916dbcbb3f70747c44a77c7bcd40155683ae19c65e1c03b4aa3499c5328201f1"
   }
  }
 },
 "nbformat": 4,
 "nbformat_minor": 2
}
